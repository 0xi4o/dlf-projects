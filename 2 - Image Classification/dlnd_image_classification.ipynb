{
 "cells": [
  {
   "cell_type": "markdown",
   "metadata": {
    "collapsed": true,
    "deletable": true,
    "editable": true
   },
   "source": [
    "# Image Classification\n",
    "In this project, you'll classify images from the [CIFAR-10 dataset](https://www.cs.toronto.edu/~kriz/cifar.html).  The dataset consists of airplanes, dogs, cats, and other objects. You'll preprocess the images, then train a convolutional neural network on all the samples. The images need to be normalized and the labels need to be one-hot encoded.  You'll get to apply what you learned and build a convolutional, max pooling, dropout, and fully connected layers.  At the end, you'll get to see your neural network's predictions on the sample images.\n",
    "## Get the Data\n",
    "Run the following cell to download the [CIFAR-10 dataset for python](https://www.cs.toronto.edu/~kriz/cifar-10-python.tar.gz)."
   ]
  },
  {
   "cell_type": "code",
   "execution_count": 1,
   "metadata": {
    "collapsed": false,
    "deletable": true,
    "editable": true
   },
   "outputs": [
    {
     "name": "stdout",
     "output_type": "stream",
     "text": [
      "All files found!\n"
     ]
    }
   ],
   "source": [
    "\"\"\"\n",
    "DON'T MODIFY ANYTHING IN THIS CELL THAT IS BELOW THIS LINE\n",
    "\"\"\"\n",
    "from urllib.request import urlretrieve\n",
    "from os.path import isfile, isdir\n",
    "from tqdm import tqdm\n",
    "import problem_unittests as tests\n",
    "import tarfile\n",
    "\n",
    "cifar10_dataset_folder_path = 'cifar-10-batches-py'\n",
    "\n",
    "# Use Floyd's cifar-10 dataset if present\n",
    "floyd_cifar10_location = '/input/cifar-10/python.tar.gz'\n",
    "if isfile(floyd_cifar10_location):\n",
    "    tar_gz_path = floyd_cifar10_location\n",
    "else:\n",
    "    tar_gz_path = 'cifar-10-python.tar.gz'\n",
    "\n",
    "class DLProgress(tqdm):\n",
    "    last_block = 0\n",
    "\n",
    "    def hook(self, block_num=1, block_size=1, total_size=None):\n",
    "        self.total = total_size\n",
    "        self.update((block_num - self.last_block) * block_size)\n",
    "        self.last_block = block_num\n",
    "\n",
    "if not isfile(tar_gz_path):\n",
    "    with DLProgress(unit='B', unit_scale=True, miniters=1, desc='CIFAR-10 Dataset') as pbar:\n",
    "        urlretrieve(\n",
    "            'https://www.cs.toronto.edu/~kriz/cifar-10-python.tar.gz',\n",
    "            tar_gz_path,\n",
    "            pbar.hook)\n",
    "\n",
    "if not isdir(cifar10_dataset_folder_path):\n",
    "    with tarfile.open(tar_gz_path) as tar:\n",
    "        tar.extractall()\n",
    "        tar.close()\n",
    "\n",
    "\n",
    "tests.test_folder_path(cifar10_dataset_folder_path)"
   ]
  },
  {
   "cell_type": "markdown",
   "metadata": {
    "deletable": true,
    "editable": true
   },
   "source": [
    "## Explore the Data\n",
    "The dataset is broken into batches to prevent your machine from running out of memory.  The CIFAR-10 dataset consists of 5 batches, named `data_batch_1`, `data_batch_2`, etc.. Each batch contains the labels and images that are one of the following:\n",
    "* airplane\n",
    "* automobile\n",
    "* bird\n",
    "* cat\n",
    "* deer\n",
    "* dog\n",
    "* frog\n",
    "* horse\n",
    "* ship\n",
    "* truck\n",
    "\n",
    "Understanding a dataset is part of making predictions on the data.  Play around with the code cell below by changing the `batch_id` and `sample_id`. The `batch_id` is the id for a batch (1-5). The `sample_id` is the id for a image and label pair in the batch.\n",
    "\n",
    "Ask yourself \"What are all possible labels?\", \"What is the range of values for the image data?\", \"Are the labels in order or random?\".  Answers to questions like these will help you preprocess the data and end up with better predictions."
   ]
  },
  {
   "cell_type": "code",
   "execution_count": 2,
   "metadata": {
    "collapsed": false,
    "deletable": true,
    "editable": true
   },
   "outputs": [
    {
     "name": "stdout",
     "output_type": "stream",
     "text": [
      "\n",
      "Stats of batch 3:\n",
      "Samples: 10000\n",
      "Label Counts: {0: 994, 1: 1042, 2: 965, 3: 997, 4: 990, 5: 1029, 6: 978, 7: 1015, 8: 961, 9: 1029}\n",
      "First 20 Labels: [8, 5, 0, 6, 9, 2, 8, 3, 6, 2, 7, 4, 6, 9, 0, 0, 7, 3, 7, 2]\n",
      "\n",
      "Example of Image 9999:\n",
      "Image - Min Value: 3 Max Value: 242\n",
      "Image - Shape: (32, 32, 3)\n",
      "Label - Label Id: 1 Name: automobile\n"
     ]
    },
    {
     "data": {
      "image/png": "[encoded data removed]",
      "text/plain": [
       "<matplotlib.figure.Figure at 0x7f168d85e588>"
      ]
     },
     "metadata": {
      "image/png": {
       "height": 250,
       "width": 253
      }
     },
     "output_type": "display_data"
    }
   ],
   "source": [
    "%matplotlib inline\n",
    "%config InlineBackend.figure_format = 'retina'\n",
    "\n",
    "import helper\n",
    "import numpy as np\n",
    "\n",
    "# Explore the dataset\n",
    "batch_id = 3\n",
    "sample_id = 9999\n",
    "helper.display_stats(cifar10_dataset_folder_path, batch_id, sample_id)"
   ]
  },
  {
   "cell_type": "markdown",
   "metadata": {
    "deletable": true,
    "editable": true
   },
   "source": [
    "## Implement Preprocess Functions\n",
    "### Normalize\n",
    "In the cell below, implement the `normalize` function to take in image data, `x`, and return it as a normalized Numpy array. The values should be in the range of 0 to 1, inclusive.  The return object should be the same shape as `x`."
   ]
  },
  {
   "cell_type": "code",
   "execution_count": 3,
   "metadata": {
    "collapsed": false,
    "deletable": true,
    "editable": true
   },
   "outputs": [
    {
     "name": "stdout",
     "output_type": "stream",
     "text": [
      "Tests Passed\n"
     ]
    }
   ],
   "source": [
    "def normalize(x):\n",
    "    \"\"\"\n",
    "    Normalize a list of sample image data in the range of 0 to 1\n",
    "    : x: List of image data.  The image shape is (32, 32, 3)\n",
    "    : return: Numpy array of normalize data\n",
    "    \"\"\"\n",
    "    # TODO: Implement Function\n",
    "    x_normalized = x/x.max(axis=0)\n",
    "    return x_normalized\n",
    "\n",
    "\n",
    "\"\"\"\n",
    "DON'T MODIFY ANYTHING IN THIS CELL THAT IS BELOW THIS LINE\n",
    "\"\"\"\n",
    "tests.test_normalize(normalize)"
   ]
  },
  {
   "cell_type": "markdown",
   "metadata": {
    "deletable": true,
    "editable": true
   },
   "source": [
    "### One-hot encode\n",
    "Just like the previous code cell, you'll be implementing a function for preprocessing.  This time, you'll implement the `one_hot_encode` function. The input, `x`, are a list of labels.  Implement the function to return the list of labels as One-Hot encoded Numpy array.  The possible values for labels are 0 to 9. The one-hot encoding function should return the same encoding for each value between each call to `one_hot_encode`.  Make sure to save the map of encodings outside the function.\n",
    "\n",
    "Hint: Don't reinvent the wheel."
   ]
  },
  {
   "cell_type": "code",
   "execution_count": 4,
   "metadata": {
    "collapsed": false,
    "deletable": true,
    "editable": true
   },
   "outputs": [
    {
     "name": "stdout",
     "output_type": "stream",
     "text": [
      "Tests Passed\n"
     ]
    }
   ],
   "source": [
    "from sklearn.preprocessing import OneHotEncoder\n",
    "from pandas import DataFrame\n",
    "def one_hot_encode(x):\n",
    "    \"\"\"\n",
    "    One hot encode a list of sample labels. Return a one-hot encoded vector for each label.\n",
    "    : x: List of sample Labels\n",
    "    : return: Numpy array of one-hot encoded labels\n",
    "    \"\"\"\n",
    "    # TODO: Implement Function\n",
    "    ohe = OneHotEncoder(n_values=10)\n",
    "    labels_df = DataFrame(x)\n",
    "    labels_df = ohe.fit_transform(labels_df)\n",
    "    return labels_df.toarray()\n",
    "\n",
    "\n",
    "\"\"\"\n",
    "DON'T MODIFY ANYTHING IN THIS CELL THAT IS BELOW THIS LINE\n",
    "\"\"\"\n",
    "tests.test_one_hot_encode(one_hot_encode)"
   ]
  },
  {
   "cell_type": "markdown",
   "metadata": {
    "deletable": true,
    "editable": true
   },
   "source": [
    "### Randomize Data\n",
    "As you saw from exploring the data above, the order of the samples are randomized.  It doesn't hurt to randomize it again, but you don't need to for this dataset."
   ]
  },
  {
   "cell_type": "markdown",
   "metadata": {
    "deletable": true,
    "editable": true
   },
   "source": [
    "## Preprocess all the data and save it\n",
    "Running the code cell below will preprocess all the CIFAR-10 data and save it to file. The code below also uses 10% of the training data for validation."
   ]
  },
  {
   "cell_type": "code",
   "execution_count": 5,
   "metadata": {
    "collapsed": false,
    "deletable": true,
    "editable": true
   },
   "outputs": [],
   "source": [
    "\"\"\"\n",
    "DON'T MODIFY ANYTHING IN THIS CELL\n",
    "\"\"\"\n",
    "# Preprocess Training, Validation, and Testing Data\n",
    "helper.preprocess_and_save_data(cifar10_dataset_folder_path, normalize, one_hot_encode)"
   ]
  },
  {
   "cell_type": "markdown",
   "metadata": {
    "deletable": true,
    "editable": true
   },
   "source": [
    "# Check Point\n",
    "This is your first checkpoint.  If you ever decide to come back to this notebook or have to restart the notebook, you can start from here.  The preprocessed data has been saved to disk."
   ]
  },
  {
   "cell_type": "code",
   "execution_count": 6,
   "metadata": {
    "collapsed": true,
    "deletable": true,
    "editable": true
   },
   "outputs": [],
   "source": [
    "\"\"\"\n",
    "DON'T MODIFY ANYTHING IN THIS CELL\n",
    "\"\"\"\n",
    "import pickle\n",
    "import problem_unittests as tests\n",
    "import helper\n",
    "\n",
    "# Load the Preprocessed Validation data\n",
    "valid_features, valid_labels = pickle.load(open('preprocess_validation.p', mode='rb'))"
   ]
  },
  {
   "cell_type": "markdown",
   "metadata": {
    "deletable": true,
    "editable": true
   },
   "source": [
    "## Build the network\n",
    "For the neural network, you'll build each layer into a function.  Most of the code you've seen has been outside of functions. To test your code more thoroughly, we require that you put each layer in a function.  This allows us to give you better feedback and test for simple mistakes using our unittests before you submit your project.\n",
    "\n",
    ">**Note:** If you're finding it hard to dedicate enough time for this course each week, we've provided a small shortcut to this part of the project. In the next couple of problems, you'll have the option to use classes from the [TensorFlow Layers](https://www.tensorflow.org/api_docs/python/tf/layers) or [TensorFlow Layers (contrib)](https://www.tensorflow.org/api_guides/python/contrib.layers) packages to build each layer, except the layers you build in the \"Convolutional and Max Pooling Layer\" section.  TF Layers is similar to Keras's and TFLearn's abstraction to layers, so it's easy to pickup.\n",
    "\n",
    ">However, if you would like to get the most out of this course, try to solve all the problems _without_ using anything from the TF Layers packages. You **can** still use classes from other packages that happen to have the same name as ones you find in TF Layers! For example, instead of using the TF Layers version of the `conv2d` class, [tf.layers.conv2d](https://www.tensorflow.org/api_docs/python/tf/layers/conv2d), you would want to use the TF Neural Network version of `conv2d`, [tf.nn.conv2d](https://www.tensorflow.org/api_docs/python/tf/nn/conv2d). \n",
    "\n",
    "Let's begin!\n",
    "\n",
    "### Input\n",
    "The neural network needs to read the image data, one-hot encoded labels, and dropout keep probability. Implement the following functions\n",
    "* Implement `neural_net_image_input`\n",
    " * Return a [TF Placeholder](https://www.tensorflow.org/api_docs/python/tf/placeholder)\n",
    " * Set the shape using `image_shape` with batch size set to `None`.\n",
    " * Name the TensorFlow placeholder \"x\" using the TensorFlow `name` parameter in the [TF Placeholder](https://www.tensorflow.org/api_docs/python/tf/placeholder).\n",
    "* Implement `neural_net_label_input`\n",
    " * Return a [TF Placeholder](https://www.tensorflow.org/api_docs/python/tf/placeholder)\n",
    " * Set the shape using `n_classes` with batch size set to `None`.\n",
    " * Name the TensorFlow placeholder \"y\" using the TensorFlow `name` parameter in the [TF Placeholder](https://www.tensorflow.org/api_docs/python/tf/placeholder).\n",
    "* Implement `neural_net_keep_prob_input`\n",
    " * Return a [TF Placeholder](https://www.tensorflow.org/api_docs/python/tf/placeholder) for dropout keep probability.\n",
    " * Name the TensorFlow placeholder \"keep_prob\" using the TensorFlow `name` parameter in the [TF Placeholder](https://www.tensorflow.org/api_docs/python/tf/placeholder).\n",
    "\n",
    "These names will be used at the end of the project to load your saved model.\n",
    "\n",
    "Note: `None` for shapes in TensorFlow allow for a dynamic size."
   ]
  },
  {
   "cell_type": "code",
   "execution_count": 7,
   "metadata": {
    "collapsed": false,
    "deletable": true,
    "editable": true
   },
   "outputs": [
    {
     "name": "stdout",
     "output_type": "stream",
     "text": [
      "Image Input Tests Passed.\n",
      "Label Input Tests Passed.\n",
      "Keep Prob Tests Passed.\n"
     ]
    }
   ],
   "source": [
    "import tensorflow as tf\n",
    "\n",
    "def neural_net_image_input(image_shape):\n",
    "    \"\"\"\n",
    "    Return a Tensor for a bach of image input\n",
    "    : image_shape: Shape of the images\n",
    "    : return: Tensor for image input.\n",
    "    \"\"\"\n",
    "    # TODO: Implement Function\n",
    "    return tf.placeholder(tf.float32, shape=[None, image_shape[0], image_shape[1], image_shape[2]], name='x')\n",
    "\n",
    "\n",
    "def neural_net_label_input(n_classes):\n",
    "    \"\"\"\n",
    "    Return a Tensor for a batch of label input\n",
    "    : n_classes: Number of classes\n",
    "    : return: Tensor for label input.\n",
    "    \"\"\"\n",
    "    # TODO: Implement Function\n",
    "    return tf.placeholder(tf.float32, shape=[None, n_classes], name='y')\n",
    "\n",
    "\n",
    "def neural_net_keep_prob_input():\n",
    "    \"\"\"\n",
    "    Return a Tensor for keep probability\n",
    "    : return: Tensor for keep probability.\n",
    "    \"\"\"\n",
    "    # TODO: Implement Function\n",
    "    return tf.placeholder(tf.float32, name='keep_prob')\n",
    "\n",
    "\n",
    "\"\"\"\n",
    "DON'T MODIFY ANYTHING IN THIS CELL THAT IS BELOW THIS LINE\n",
    "\"\"\"\n",
    "tf.reset_default_graph()\n",
    "tests.test_nn_image_inputs(neural_net_image_input)\n",
    "tests.test_nn_label_inputs(neural_net_label_input)\n",
    "tests.test_nn_keep_prob_inputs(neural_net_keep_prob_input)"
   ]
  },
  {
   "cell_type": "markdown",
   "metadata": {
    "deletable": true,
    "editable": true
   },
   "source": [
    "### Convolution and Max Pooling Layer\n",
    "Convolution layers have a lot of success with images. For this code cell, you should implement the function `conv2d_maxpool` to apply convolution then max pooling:\n",
    "* Create the weight and bias using `conv_ksize`, `conv_num_outputs` and the shape of `x_tensor`.\n",
    "* Apply a convolution to `x_tensor` using weight and `conv_strides`.\n",
    " * We recommend you use same padding, but you're welcome to use any padding.\n",
    "* Add bias\n",
    "* Add a nonlinear activation to the convolution.\n",
    "* Apply Max Pooling using `pool_ksize` and `pool_strides`.\n",
    " * We recommend you use same padding, but you're welcome to use any padding.\n",
    "\n",
    "**Note:** You **can't** use [TensorFlow Layers](https://www.tensorflow.org/api_docs/python/tf/layers) or [TensorFlow Layers (contrib)](https://www.tensorflow.org/api_guides/python/contrib.layers) for **this** layer, but you can still use TensorFlow's [Neural Network](https://www.tensorflow.org/api_docs/python/tf/nn) package. You may still use the shortcut option for all the **other** layers."
   ]
  },
  {
   "cell_type": "code",
   "execution_count": 8,
   "metadata": {
    "collapsed": false,
    "deletable": true,
    "editable": true
   },
   "outputs": [
    {
     "name": "stdout",
     "output_type": "stream",
     "text": [
      "Tests Passed\n"
     ]
    }
   ],
   "source": [
    "def conv2d_maxpool(x_tensor, conv_num_outputs, conv_ksize, conv_strides, pool_ksize, pool_strides):\n",
    "    \"\"\"\n",
    "    Apply convolution then max pooling to x_tensor\n",
    "    :param x_tensor: TensorFlow Tensor\n",
    "    :param conv_num_outputs: Number of outputs for the convolutional layer\n",
    "    :param conv_ksize: kernal size 2-D Tuple for the convolutional layer\n",
    "    :param conv_strides: Stride 2-D Tuple for convolution\n",
    "    :param pool_ksize: kernal size 2-D Tuple for pool\n",
    "    :param pool_strides: Stride 2-D Tuple for pool\n",
    "    : return: A tensor that represents convolution and max pooling of x_tensor\n",
    "    \"\"\"\n",
    "    # TODO: Implement Function\n",
    "    input_depth = int(x_tensor.get_shape()[3])\n",
    "    weights = tf.Variable(tf.random_normal([conv_ksize[0], conv_ksize[1], input_depth, conv_num_outputs], stddev=0.05, dtype=tf.float32))\n",
    "    biases = tf.Variable(tf.zeros(conv_num_outputs))\n",
    "    conv = tf.nn.conv2d(x_tensor, weights, strides=[1, conv_strides[0], conv_strides[1], 1], padding='SAME')\n",
    "    conv = tf.nn.bias_add(conv, biases)\n",
    "    conv = tf.nn.relu(conv)\n",
    "    conv = tf.nn.max_pool(conv, ksize=[1, pool_ksize[0], pool_ksize[1], 1], strides=[1, pool_strides[0], pool_strides[1], 1], padding='SAME')\n",
    "    return conv\n",
    "\n",
    "\n",
    "\"\"\"\n",
    "DON'T MODIFY ANYTHING IN THIS CELL THAT IS BELOW THIS LINE\n",
    "\"\"\"\n",
    "tests.test_con_pool(conv2d_maxpool)"
   ]
  },
  {
   "cell_type": "markdown",
   "metadata": {
    "deletable": true,
    "editable": true
   },
   "source": [
    "### Flatten Layer\n",
    "Implement the `flatten` function to change the dimension of `x_tensor` from a 4-D tensor to a 2-D tensor.  The output should be the shape (*Batch Size*, *Flattened Image Size*). Shortcut option: you can use classes from the [TensorFlow Layers](https://www.tensorflow.org/api_docs/python/tf/layers) or [TensorFlow Layers (contrib)](https://www.tensorflow.org/api_guides/python/contrib.layers) packages for this layer. For more of a challenge, only use other TensorFlow packages."
   ]
  },
  {
   "cell_type": "code",
   "execution_count": 9,
   "metadata": {
    "collapsed": false,
    "deletable": true,
    "editable": true
   },
   "outputs": [
    {
     "name": "stdout",
     "output_type": "stream",
     "text": [
      "Tests Passed\n"
     ]
    }
   ],
   "source": [
    "def flatten(x_tensor):\n",
    "    \"\"\"\n",
    "    Flatten x_tensor to (Batch Size, Flattened Image Size)\n",
    "    : x_tensor: A tensor of size (Batch Size, ...), where ... are the image dimensions.\n",
    "    : return: A tensor of size (Batch Size, Flattened Image Size).\n",
    "    \"\"\"\n",
    "    # TODO: Implement Function\n",
    "    return tf.contrib.layers.flatten(x_tensor)\n",
    "\n",
    "\n",
    "\"\"\"\n",
    "DON'T MODIFY ANYTHING IN THIS CELL THAT IS BELOW THIS LINE\n",
    "\"\"\"\n",
    "tests.test_flatten(flatten)"
   ]
  },
  {
   "cell_type": "markdown",
   "metadata": {
    "deletable": true,
    "editable": true
   },
   "source": [
    "### Fully-Connected Layer\n",
    "Implement the `fully_conn` function to apply a fully connected layer to `x_tensor` with the shape (*Batch Size*, *num_outputs*). Shortcut option: you can use classes from the [TensorFlow Layers](https://www.tensorflow.org/api_docs/python/tf/layers) or [TensorFlow Layers (contrib)](https://www.tensorflow.org/api_guides/python/contrib.layers) packages for this layer. For more of a challenge, only use other TensorFlow packages."
   ]
  },
  {
   "cell_type": "code",
   "execution_count": 10,
   "metadata": {
    "collapsed": false,
    "deletable": true,
    "editable": true
   },
   "outputs": [
    {
     "name": "stdout",
     "output_type": "stream",
     "text": [
      "Tests Passed\n"
     ]
    }
   ],
   "source": [
    "def fully_conn(x_tensor, num_outputs):\n",
    "    \"\"\"\n",
    "    Apply a fully connected layer to x_tensor using weight and bias\n",
    "    : x_tensor: A 2-D tensor where the first dimension is batch size.\n",
    "    : num_outputs: The number of output that the new tensor should be.\n",
    "    : return: A 2-D tensor where the second dimension is num_outputs.\n",
    "    \"\"\"\n",
    "    # TODO: Implement Function\n",
    "    return tf.contrib.layers.fully_connected(x_tensor, num_outputs=num_outputs, activation_fn=tf.nn.relu)\n",
    "\n",
    "\n",
    "\"\"\"\n",
    "DON'T MODIFY ANYTHING IN THIS CELL THAT IS BELOW THIS LINE\n",
    "\"\"\"\n",
    "tests.test_fully_conn(fully_conn)"
   ]
  },
  {
   "cell_type": "markdown",
   "metadata": {
    "deletable": true,
    "editable": true
   },
   "source": [
    "### Output Layer\n",
    "Implement the `output` function to apply a fully connected layer to `x_tensor` with the shape (*Batch Size*, *num_outputs*). Shortcut option: you can use classes from the [TensorFlow Layers](https://www.tensorflow.org/api_docs/python/tf/layers) or [TensorFlow Layers (contrib)](https://www.tensorflow.org/api_guides/python/contrib.layers) packages for this layer. For more of a challenge, only use other TensorFlow packages.\n",
    "\n",
    "**Note:** Activation, softmax, or cross entropy should **not** be applied to this."
   ]
  },
  {
   "cell_type": "code",
   "execution_count": 11,
   "metadata": {
    "collapsed": false,
    "deletable": true,
    "editable": true
   },
   "outputs": [
    {
     "name": "stdout",
     "output_type": "stream",
     "text": [
      "Tests Passed\n"
     ]
    }
   ],
   "source": [
    "def output(x_tensor, num_outputs):\n",
    "    \"\"\"\n",
    "    Apply a output layer to x_tensor using weight and bias\n",
    "    : x_tensor: A 2-D tensor where the first dimension is batch size.\n",
    "    : num_outputs: The number of output that the new tensor should be.\n",
    "    : return: A 2-D tensor where the second dimension is num_outputs.\n",
    "    \"\"\"\n",
    "    # TODO: Implement Function\n",
    "    x_shape = x_tensor.get_shape().as_list()[1]\n",
    "    weights = tf.Variable(tf.random_normal([x_shape, num_outputs], stddev=0.05, dtype=tf.float32))\n",
    "    biases = tf.Variable(tf.zeros(num_outputs))\n",
    "    out = tf.add(tf.matmul(x_tensor, weights), biases)\n",
    "    return out\n",
    "\n",
    "\n",
    "\"\"\"\n",
    "DON'T MODIFY ANYTHING IN THIS CELL THAT IS BELOW THIS LINE\n",
    "\"\"\"\n",
    "tests.test_output(output)"
   ]
  },
  {
   "cell_type": "markdown",
   "metadata": {
    "deletable": true,
    "editable": true
   },
   "source": [
    "### Create Convolutional Model\n",
    "Implement the function `conv_net` to create a convolutional neural network model. The function takes in a batch of images, `x`, and outputs logits.  Use the layers you created above to create this model:\n",
    "\n",
    "* Apply 1, 2, or 3 Convolution and Max Pool layers\n",
    "* Apply a Flatten Layer\n",
    "* Apply 1, 2, or 3 Fully Connected Layers\n",
    "* Apply an Output Layer\n",
    "* Return the output\n",
    "* Apply [TensorFlow's Dropout](https://www.tensorflow.org/api_docs/python/tf/nn/dropout) to one or more layers in the model using `keep_prob`. "
   ]
  },
  {
   "cell_type": "code",
   "execution_count": 34,
   "metadata": {
    "collapsed": false,
    "deletable": true,
    "editable": true
   },
   "outputs": [
    {
     "name": "stdout",
     "output_type": "stream",
     "text": [
      "Neural Network Built!\n"
     ]
    }
   ],
   "source": [
    "def conv_net(x, keep_prob):\n",
    "    \"\"\"\n",
    "    Create a convolutional neural network model\n",
    "    : x: Placeholder tensor that holds image data.\n",
    "    : keep_prob: Placeholder tensor that hold dropout keep probability.\n",
    "    : return: Tensor that represents logits\n",
    "    \"\"\"\n",
    "    # TODO: Apply 1, 2, or 3 Convolution and Max Pool layers\n",
    "    #    Play around with different number of outputs, kernel size and stride\n",
    "    # Function Definition from Above:\n",
    "    #    conv2d_maxpool(x_tensor, conv_num_outputs, conv_ksize, conv_strides, pool_ksize, pool_strides)\n",
    "    \n",
    "    conv = conv2d_maxpool(x, 16, (5, 5), (2, 2), (5, 5), (2, 2))\n",
    "    conv = conv2d_maxpool(conv, 32, (7, 7), (1, 1), (7, 7), (2, 2))\n",
    "    conv = conv2d_maxpool(conv, 64, (9, 9), (3, 3), (9, 9), (3, 3))\n",
    "\n",
    "    # TODO: Apply a Flatten Layer\n",
    "    # Function Definition from Above:\n",
    "    #   flatten(x_tensor)\n",
    "    flattened = flatten(conv)\n",
    "    \n",
    "\n",
    "    # TODO: Apply 1, 2, or 3 Fully Connected Layers\n",
    "    #    Play around with different number of outputs\n",
    "    # Function Definition from Above:\n",
    "    #   fully_conn(x_tensor, num_outputs)\n",
    "    fc = fully_conn(flattened, 512)\n",
    "    fc = tf.nn.dropout(fc, keep_prob=keep_prob)\n",
    "    fc = fully_conn(fc, 256)\n",
    "    fc = tf.nn.dropout(fc, keep_prob=keep_prob)\n",
    "    \n",
    "    \n",
    "    # TODO: Apply an Output Layer\n",
    "    #    Set this to the number of classes\n",
    "    # Function Definition from Above:\n",
    "    #   output(x_tensor, num_outputs)\n",
    "    out = output(fc, 10)\n",
    "    \n",
    "    \n",
    "    # TODO: return output\n",
    "    return out\n",
    "\n",
    "\n",
    "\"\"\"\n",
    "DON'T MODIFY ANYTHING IN THIS CELL THAT IS BELOW THIS LINE\n",
    "\"\"\"\n",
    "\n",
    "##############################\n",
    "## Build the Neural Network ##\n",
    "##############################\n",
    "\n",
    "# Remove previous weights, bias, inputs, etc..\n",
    "tf.reset_default_graph()\n",
    "\n",
    "# Inputs\n",
    "x = neural_net_image_input((32, 32, 3))\n",
    "y = neural_net_label_input(10)\n",
    "keep_prob = neural_net_keep_prob_input()\n",
    "\n",
    "# Model\n",
    "logits = conv_net(x, keep_prob)\n",
    "\n",
    "# Name logits Tensor, so that is can be loaded from disk after training\n",
    "logits = tf.identity(logits, name='logits')\n",
    "\n",
    "# Loss and Optimizer\n",
    "cost = tf.reduce_mean(tf.nn.softmax_cross_entropy_with_logits(logits=logits, labels=y))\n",
    "optimizer = tf.train.AdamOptimizer().minimize(cost)\n",
    "\n",
    "# Accuracy\n",
    "correct_pred = tf.equal(tf.argmax(logits, 1), tf.argmax(y, 1))\n",
    "accuracy = tf.reduce_mean(tf.cast(correct_pred, tf.float32), name='accuracy')\n",
    "\n",
    "tests.test_conv_net(conv_net)"
   ]
  },
  {
   "cell_type": "markdown",
   "metadata": {
    "deletable": true,
    "editable": true
   },
   "source": [
    "## Train the Neural Network\n",
    "### Single Optimization\n",
    "Implement the function `train_neural_network` to do a single optimization.  The optimization should use `optimizer` to optimize in `session` with a `feed_dict` of the following:\n",
    "* `x` for image input\n",
    "* `y` for labels\n",
    "* `keep_prob` for keep probability for dropout\n",
    "\n",
    "This function will be called for each batch, so `tf.global_variables_initializer()` has already been called.\n",
    "\n",
    "Note: Nothing needs to be returned. This function is only optimizing the neural network."
   ]
  },
  {
   "cell_type": "code",
   "execution_count": 35,
   "metadata": {
    "collapsed": false,
    "deletable": true,
    "editable": true
   },
   "outputs": [
    {
     "name": "stdout",
     "output_type": "stream",
     "text": [
      "Tests Passed\n"
     ]
    }
   ],
   "source": [
    "def train_neural_network(session, optimizer, keep_probability, feature_batch, label_batch):\n",
    "    \"\"\"\n",
    "    Optimize the session on a batch of images and labels\n",
    "    : session: Current TensorFlow session\n",
    "    : optimizer: TensorFlow optimizer function\n",
    "    : keep_probability: keep probability\n",
    "    : feature_batch: Batch of Numpy image data\n",
    "    : label_batch: Batch of Numpy label data\n",
    "    \"\"\"\n",
    "    # TODO: Implement Function\n",
    "    session.run(optimizer, feed_dict={\n",
    "        x: feature_batch,\n",
    "        y: label_batch,\n",
    "        keep_prob: keep_probability\n",
    "    })\n",
    "\n",
    "\n",
    "\"\"\"\n",
    "DON'T MODIFY ANYTHING IN THIS CELL THAT IS BELOW THIS LINE\n",
    "\"\"\"\n",
    "tests.test_train_nn(train_neural_network)"
   ]
  },
  {
   "cell_type": "markdown",
   "metadata": {
    "deletable": true,
    "editable": true
   },
   "source": [
    "### Show Stats\n",
    "Implement the function `print_stats` to print loss and validation accuracy.  Use the global variables `valid_features` and `valid_labels` to calculate validation accuracy.  Use a keep probability of `1.0` to calculate the loss and validation accuracy."
   ]
  },
  {
   "cell_type": "code",
   "execution_count": 36,
   "metadata": {
    "collapsed": false,
    "deletable": true,
    "editable": true
   },
   "outputs": [],
   "source": [
    "def print_stats(session, feature_batch, label_batch, cost, accuracy):\n",
    "    \"\"\"\n",
    "    Print information about loss and validation accuracy\n",
    "    : session: Current TensorFlow session\n",
    "    : feature_batch: Batch of Numpy image data\n",
    "    : label_batch: Batch of Numpy label data\n",
    "    : cost: TensorFlow cost function\n",
    "    : accuracy: TensorFlow accuracy function\n",
    "    \"\"\"\n",
    "    # TODO: Implement Function\n",
    "    loss = session.run(cost, feed_dict={\n",
    "        x: feature_batch,\n",
    "        y: label_batch,\n",
    "        keep_prob: 1.\n",
    "    })\n",
    "    \n",
    "    valid_acc = session.run(accuracy, feed_dict={\n",
    "        x: valid_features,\n",
    "        y: valid_labels,\n",
    "        keep_prob: 1.\n",
    "    })\n",
    "    \n",
    "    print('Loss: {:>10.4f} Validation Accuracy: {:.6f}'.format(\n",
    "                loss,\n",
    "                valid_acc))"
   ]
  },
  {
   "cell_type": "markdown",
   "metadata": {
    "deletable": true,
    "editable": true
   },
   "source": [
    "### Hyperparameters\n",
    "Tune the following parameters:\n",
    "* Set `epochs` to the number of iterations until the network stops learning or start overfitting\n",
    "* Set `batch_size` to the highest number that your machine has memory for.  Most people set them to common sizes of memory:\n",
    " * 64\n",
    " * 128\n",
    " * 256\n",
    " * ...\n",
    "* Set `keep_probability` to the probability of keeping a node using dropout"
   ]
  },
  {
   "cell_type": "code",
   "execution_count": 37,
   "metadata": {
    "collapsed": true,
    "deletable": true,
    "editable": true
   },
   "outputs": [],
   "source": [
    "# TODO: Tune Parameters\n",
    "epochs = 50\n",
    "batch_size = 256\n",
    "keep_probability = 0.8"
   ]
  },
  {
   "cell_type": "markdown",
   "metadata": {
    "deletable": true,
    "editable": true
   },
   "source": [
    "### Train on a Single CIFAR-10 Batch\n",
    "Instead of training the neural network on all the CIFAR-10 batches of data, let's use a single batch. This should save time while you iterate on the model to get a better accuracy.  Once the final validation accuracy is 50% or greater, run the model on all the data in the next section."
   ]
  },
  {
   "cell_type": "code",
   "execution_count": 38,
   "metadata": {
    "collapsed": false,
    "deletable": true,
    "editable": true
   },
   "outputs": [
    {
     "name": "stdout",
     "output_type": "stream",
     "text": [
      "Checking the Training on a Single Batch...\n",
      "Epoch  1, CIFAR-10 Batch 1:  Loss:     2.1128 Validation Accuracy: 0.259400\n",
      "Epoch  2, CIFAR-10 Batch 1:  Loss:     1.8728 Validation Accuracy: 0.338800\n",
      "Epoch  3, CIFAR-10 Batch 1:  Loss:     1.7259 Validation Accuracy: 0.349600\n",
      "Epoch  4, CIFAR-10 Batch 1:  Loss:     1.5745 Validation Accuracy: 0.408600\n",
      "Epoch  5, CIFAR-10 Batch 1:  Loss:     1.4534 Validation Accuracy: 0.426000\n",
      "Epoch  6, CIFAR-10 Batch 1:  Loss:     1.3166 Validation Accuracy: 0.449000\n",
      "Epoch  7, CIFAR-10 Batch 1:  Loss:     1.1948 Validation Accuracy: 0.474000\n",
      "Epoch  8, CIFAR-10 Batch 1:  Loss:     1.0525 Validation Accuracy: 0.489000\n",
      "Epoch  9, CIFAR-10 Batch 1:  Loss:     0.9311 Validation Accuracy: 0.492800\n",
      "Epoch 10, CIFAR-10 Batch 1:  Loss:     0.8704 Validation Accuracy: 0.486400\n",
      "Epoch 11, CIFAR-10 Batch 1:  Loss:     0.8506 Validation Accuracy: 0.484400\n",
      "Epoch 12, CIFAR-10 Batch 1:  Loss:     0.7649 Validation Accuracy: 0.499200\n",
      "Epoch 13, CIFAR-10 Batch 1:  Loss:     0.7111 Validation Accuracy: 0.497800\n",
      "Epoch 14, CIFAR-10 Batch 1:  Loss:     0.6614 Validation Accuracy: 0.486600\n",
      "Epoch 15, CIFAR-10 Batch 1:  Loss:     0.6861 Validation Accuracy: 0.489200\n",
      "Epoch 16, CIFAR-10 Batch 1:  Loss:     0.6272 Validation Accuracy: 0.499400\n",
      "Epoch 17, CIFAR-10 Batch 1:  Loss:     0.5336 Validation Accuracy: 0.517600\n",
      "Epoch 18, CIFAR-10 Batch 1:  Loss:     0.5059 Validation Accuracy: 0.522000\n",
      "Epoch 19, CIFAR-10 Batch 1:  Loss:     0.5303 Validation Accuracy: 0.507400\n",
      "Epoch 20, CIFAR-10 Batch 1:  Loss:     0.4935 Validation Accuracy: 0.508800\n",
      "Epoch 21, CIFAR-10 Batch 1:  Loss:     0.5249 Validation Accuracy: 0.465000\n",
      "Epoch 22, CIFAR-10 Batch 1:  Loss:     0.4371 Validation Accuracy: 0.506400\n",
      "Epoch 23, CIFAR-10 Batch 1:  Loss:     0.3494 Validation Accuracy: 0.517200\n",
      "Epoch 24, CIFAR-10 Batch 1:  Loss:     0.3525 Validation Accuracy: 0.510800\n",
      "Epoch 25, CIFAR-10 Batch 1:  Loss:     0.3335 Validation Accuracy: 0.505600\n",
      "Epoch 26, CIFAR-10 Batch 1:  Loss:     0.2741 Validation Accuracy: 0.521000\n",
      "Epoch 27, CIFAR-10 Batch 1:  Loss:     0.2287 Validation Accuracy: 0.526800\n",
      "Epoch 28, CIFAR-10 Batch 1:  Loss:     0.1959 Validation Accuracy: 0.530800\n",
      "Epoch 29, CIFAR-10 Batch 1:  Loss:     0.1974 Validation Accuracy: 0.511800\n",
      "Epoch 30, CIFAR-10 Batch 1:  Loss:     0.2186 Validation Accuracy: 0.494400\n",
      "Epoch 31, CIFAR-10 Batch 1:  Loss:     0.2268 Validation Accuracy: 0.529800\n",
      "Epoch 32, CIFAR-10 Batch 1:  Loss:     0.1680 Validation Accuracy: 0.528400\n",
      "Epoch 33, CIFAR-10 Batch 1:  Loss:     0.1597 Validation Accuracy: 0.529800\n",
      "Epoch 34, CIFAR-10 Batch 1:  Loss:     0.1763 Validation Accuracy: 0.529600\n",
      "Epoch 35, CIFAR-10 Batch 1:  Loss:     0.2159 Validation Accuracy: 0.527400\n",
      "Epoch 36, CIFAR-10 Batch 1:  Loss:     0.2163 Validation Accuracy: 0.504400\n",
      "Epoch 37, CIFAR-10 Batch 1:  Loss:     0.2524 Validation Accuracy: 0.502800\n",
      "Epoch 38, CIFAR-10 Batch 1:  Loss:     0.2173 Validation Accuracy: 0.500200\n",
      "Epoch 39, CIFAR-10 Batch 1:  Loss:     0.1547 Validation Accuracy: 0.514000\n",
      "Epoch 40, CIFAR-10 Batch 1:  Loss:     0.1321 Validation Accuracy: 0.515600\n",
      "Epoch 41, CIFAR-10 Batch 1:  Loss:     0.1747 Validation Accuracy: 0.516800\n",
      "Epoch 42, CIFAR-10 Batch 1:  Loss:     0.1578 Validation Accuracy: 0.532200\n",
      "Epoch 43, CIFAR-10 Batch 1:  Loss:     0.0991 Validation Accuracy: 0.537800\n",
      "Epoch 44, CIFAR-10 Batch 1:  Loss:     0.1020 Validation Accuracy: 0.537800\n",
      "Epoch 45, CIFAR-10 Batch 1:  Loss:     0.1025 Validation Accuracy: 0.535200\n",
      "Epoch 46, CIFAR-10 Batch 1:  Loss:     0.1049 Validation Accuracy: 0.526800\n",
      "Epoch 47, CIFAR-10 Batch 1:  Loss:     0.1306 Validation Accuracy: 0.523800\n",
      "Epoch 48, CIFAR-10 Batch 1:  Loss:     0.1506 Validation Accuracy: 0.509600\n",
      "Epoch 49, CIFAR-10 Batch 1:  Loss:     0.0714 Validation Accuracy: 0.522600\n",
      "Epoch 50, CIFAR-10 Batch 1:  Loss:     0.0717 Validation Accuracy: 0.521800\n"
     ]
    }
   ],
   "source": [
    "\"\"\"\n",
    "DON'T MODIFY ANYTHING IN THIS CELL\n",
    "\"\"\"\n",
    "print('Checking the Training on a Single Batch...')\n",
    "with tf.Session() as sess:\n",
    "    # Initializing the variables\n",
    "    sess.run(tf.global_variables_initializer())\n",
    "    \n",
    "    # Training cycle\n",
    "    for epoch in range(epochs):\n",
    "        batch_i = 1\n",
    "        for batch_features, batch_labels in helper.load_preprocess_training_batch(batch_i, batch_size):\n",
    "            train_neural_network(sess, optimizer, keep_probability, batch_features, batch_labels)\n",
    "        print('Epoch {:>2}, CIFAR-10 Batch {}:  '.format(epoch + 1, batch_i), end='')\n",
    "        print_stats(sess, batch_features, batch_labels, cost, accuracy)"
   ]
  },
  {
   "cell_type": "markdown",
   "metadata": {
    "deletable": true,
    "editable": true
   },
   "source": [
    "### Fully Train the Model\n",
    "Now that you got a good accuracy with a single CIFAR-10 batch, try it with all five batches."
   ]
  },
  {
   "cell_type": "code",
   "execution_count": 39,
   "metadata": {
    "collapsed": false,
    "deletable": true,
    "editable": true
   },
   "outputs": [
    {
     "name": "stdout",
     "output_type": "stream",
     "text": [
      "Training...\n",
      "Epoch  1, CIFAR-10 Batch 1:  Loss:     2.0784 Validation Accuracy: 0.285000\n",
      "Epoch  1, CIFAR-10 Batch 2:  Loss:     1.8660 Validation Accuracy: 0.324400\n",
      "Epoch  1, CIFAR-10 Batch 3:  Loss:     1.5825 Validation Accuracy: 0.357400\n",
      "Epoch  1, CIFAR-10 Batch 4:  Loss:     1.5895 Validation Accuracy: 0.375400\n",
      "Epoch  1, CIFAR-10 Batch 5:  Loss:     1.5718 Validation Accuracy: 0.402200\n",
      "Epoch  2, CIFAR-10 Batch 1:  Loss:     1.5274 Validation Accuracy: 0.454000\n",
      "Epoch  2, CIFAR-10 Batch 2:  Loss:     1.5824 Validation Accuracy: 0.468200\n",
      "Epoch  2, CIFAR-10 Batch 3:  Loss:     1.2270 Validation Accuracy: 0.431000\n",
      "Epoch  2, CIFAR-10 Batch 4:  Loss:     1.4226 Validation Accuracy: 0.474000\n",
      "Epoch  2, CIFAR-10 Batch 5:  Loss:     1.3170 Validation Accuracy: 0.488800\n",
      "Epoch  3, CIFAR-10 Batch 1:  Loss:     1.2587 Validation Accuracy: 0.500800\n",
      "Epoch  3, CIFAR-10 Batch 2:  Loss:     1.4196 Validation Accuracy: 0.521800\n",
      "Epoch  3, CIFAR-10 Batch 3:  Loss:     0.9853 Validation Accuracy: 0.499400\n",
      "Epoch  3, CIFAR-10 Batch 4:  Loss:     1.1590 Validation Accuracy: 0.519600\n",
      "Epoch  3, CIFAR-10 Batch 5:  Loss:     1.1140 Validation Accuracy: 0.521600\n",
      "Epoch  4, CIFAR-10 Batch 1:  Loss:     1.1135 Validation Accuracy: 0.513800\n",
      "Epoch  4, CIFAR-10 Batch 2:  Loss:     1.1429 Validation Accuracy: 0.533800\n",
      "Epoch  4, CIFAR-10 Batch 3:  Loss:     0.8554 Validation Accuracy: 0.506000\n",
      "Epoch  4, CIFAR-10 Batch 4:  Loss:     1.0735 Validation Accuracy: 0.559200\n",
      "Epoch  4, CIFAR-10 Batch 5:  Loss:     1.0226 Validation Accuracy: 0.539800\n",
      "Epoch  5, CIFAR-10 Batch 1:  Loss:     0.9899 Validation Accuracy: 0.541400\n",
      "Epoch  5, CIFAR-10 Batch 2:  Loss:     1.0492 Validation Accuracy: 0.561200\n",
      "Epoch  5, CIFAR-10 Batch 3:  Loss:     0.8268 Validation Accuracy: 0.511000\n",
      "Epoch  5, CIFAR-10 Batch 4:  Loss:     0.9766 Validation Accuracy: 0.561800\n",
      "Epoch  5, CIFAR-10 Batch 5:  Loss:     0.9583 Validation Accuracy: 0.551800\n",
      "Epoch  6, CIFAR-10 Batch 1:  Loss:     0.9333 Validation Accuracy: 0.546000\n",
      "Epoch  6, CIFAR-10 Batch 2:  Loss:     0.9431 Validation Accuracy: 0.566600\n",
      "Epoch  6, CIFAR-10 Batch 3:  Loss:     0.7562 Validation Accuracy: 0.536800\n",
      "Epoch  6, CIFAR-10 Batch 4:  Loss:     0.8235 Validation Accuracy: 0.592000\n",
      "Epoch  6, CIFAR-10 Batch 5:  Loss:     0.8444 Validation Accuracy: 0.570200\n",
      "Epoch  7, CIFAR-10 Batch 1:  Loss:     0.8402 Validation Accuracy: 0.576200\n",
      "Epoch  7, CIFAR-10 Batch 2:  Loss:     0.8785 Validation Accuracy: 0.585200\n",
      "Epoch  7, CIFAR-10 Batch 3:  Loss:     0.6438 Validation Accuracy: 0.540400\n",
      "Epoch  7, CIFAR-10 Batch 4:  Loss:     0.7145 Validation Accuracy: 0.595800\n",
      "Epoch  7, CIFAR-10 Batch 5:  Loss:     0.7546 Validation Accuracy: 0.586200\n",
      "Epoch  8, CIFAR-10 Batch 1:  Loss:     0.8131 Validation Accuracy: 0.594200\n",
      "Epoch  8, CIFAR-10 Batch 2:  Loss:     0.7744 Validation Accuracy: 0.575200\n",
      "Epoch  8, CIFAR-10 Batch 3:  Loss:     0.6046 Validation Accuracy: 0.562200\n",
      "Epoch  8, CIFAR-10 Batch 4:  Loss:     0.6493 Validation Accuracy: 0.577000\n",
      "Epoch  8, CIFAR-10 Batch 5:  Loss:     0.7009 Validation Accuracy: 0.591400\n",
      "Epoch  9, CIFAR-10 Batch 1:  Loss:     0.7330 Validation Accuracy: 0.609200\n",
      "Epoch  9, CIFAR-10 Batch 2:  Loss:     0.6821 Validation Accuracy: 0.577400\n",
      "Epoch  9, CIFAR-10 Batch 3:  Loss:     0.5672 Validation Accuracy: 0.563800\n",
      "Epoch  9, CIFAR-10 Batch 4:  Loss:     0.6149 Validation Accuracy: 0.589200\n",
      "Epoch  9, CIFAR-10 Batch 5:  Loss:     0.6459 Validation Accuracy: 0.600600\n",
      "Epoch 10, CIFAR-10 Batch 1:  Loss:     0.6939 Validation Accuracy: 0.617000\n",
      "Epoch 10, CIFAR-10 Batch 2:  Loss:     0.6366 Validation Accuracy: 0.592000\n",
      "Epoch 10, CIFAR-10 Batch 3:  Loss:     0.5458 Validation Accuracy: 0.578200\n",
      "Epoch 10, CIFAR-10 Batch 4:  Loss:     0.5544 Validation Accuracy: 0.596800\n",
      "Epoch 10, CIFAR-10 Batch 5:  Loss:     0.5727 Validation Accuracy: 0.601600\n",
      "Epoch 11, CIFAR-10 Batch 1:  Loss:     0.6672 Validation Accuracy: 0.607400\n",
      "Epoch 11, CIFAR-10 Batch 2:  Loss:     0.5609 Validation Accuracy: 0.583000\n",
      "Epoch 11, CIFAR-10 Batch 3:  Loss:     0.5060 Validation Accuracy: 0.580200\n",
      "Epoch 11, CIFAR-10 Batch 4:  Loss:     0.5098 Validation Accuracy: 0.620800\n",
      "Epoch 11, CIFAR-10 Batch 5:  Loss:     0.5063 Validation Accuracy: 0.609000\n",
      "Epoch 12, CIFAR-10 Batch 1:  Loss:     0.6967 Validation Accuracy: 0.604000\n",
      "Epoch 12, CIFAR-10 Batch 2:  Loss:     0.4941 Validation Accuracy: 0.611600\n",
      "Epoch 12, CIFAR-10 Batch 3:  Loss:     0.4247 Validation Accuracy: 0.591200\n",
      "Epoch 12, CIFAR-10 Batch 4:  Loss:     0.4775 Validation Accuracy: 0.630400\n",
      "Epoch 12, CIFAR-10 Batch 5:  Loss:     0.4939 Validation Accuracy: 0.614200\n",
      "Epoch 13, CIFAR-10 Batch 1:  Loss:     0.6766 Validation Accuracy: 0.615000\n",
      "Epoch 13, CIFAR-10 Batch 2:  Loss:     0.4722 Validation Accuracy: 0.609400\n",
      "Epoch 13, CIFAR-10 Batch 3:  Loss:     0.3866 Validation Accuracy: 0.606600\n",
      "Epoch 13, CIFAR-10 Batch 4:  Loss:     0.4432 Validation Accuracy: 0.620400\n",
      "Epoch 13, CIFAR-10 Batch 5:  Loss:     0.4650 Validation Accuracy: 0.616000\n",
      "Epoch 14, CIFAR-10 Batch 1:  Loss:     0.6685 Validation Accuracy: 0.608400\n",
      "Epoch 14, CIFAR-10 Batch 2:  Loss:     0.4252 Validation Accuracy: 0.620200\n",
      "Epoch 14, CIFAR-10 Batch 3:  Loss:     0.3720 Validation Accuracy: 0.613600\n",
      "Epoch 14, CIFAR-10 Batch 4:  Loss:     0.4046 Validation Accuracy: 0.627200\n",
      "Epoch 14, CIFAR-10 Batch 5:  Loss:     0.4386 Validation Accuracy: 0.611400\n",
      "Epoch 15, CIFAR-10 Batch 1:  Loss:     0.6235 Validation Accuracy: 0.611800\n",
      "Epoch 15, CIFAR-10 Batch 2:  Loss:     0.4239 Validation Accuracy: 0.612200\n",
      "Epoch 15, CIFAR-10 Batch 3:  Loss:     0.3751 Validation Accuracy: 0.618600\n",
      "Epoch 15, CIFAR-10 Batch 4:  Loss:     0.4184 Validation Accuracy: 0.622800\n",
      "Epoch 15, CIFAR-10 Batch 5:  Loss:     0.4367 Validation Accuracy: 0.624000\n",
      "Epoch 16, CIFAR-10 Batch 1:  Loss:     0.5632 Validation Accuracy: 0.625600\n",
      "Epoch 16, CIFAR-10 Batch 2:  Loss:     0.3690 Validation Accuracy: 0.615400\n",
      "Epoch 16, CIFAR-10 Batch 3:  Loss:     0.3406 Validation Accuracy: 0.632400\n",
      "Epoch 16, CIFAR-10 Batch 4:  Loss:     0.3875 Validation Accuracy: 0.633200\n",
      "Epoch 16, CIFAR-10 Batch 5:  Loss:     0.4055 Validation Accuracy: 0.626400\n",
      "Epoch 17, CIFAR-10 Batch 1:  Loss:     0.5329 Validation Accuracy: 0.631200\n",
      "Epoch 17, CIFAR-10 Batch 2:  Loss:     0.3376 Validation Accuracy: 0.624800\n",
      "Epoch 17, CIFAR-10 Batch 3:  Loss:     0.3372 Validation Accuracy: 0.622600\n",
      "Epoch 17, CIFAR-10 Batch 4:  Loss:     0.4072 Validation Accuracy: 0.631400\n",
      "Epoch 17, CIFAR-10 Batch 5:  Loss:     0.3873 Validation Accuracy: 0.613200\n",
      "Epoch 18, CIFAR-10 Batch 1:  Loss:     0.5244 Validation Accuracy: 0.628800\n",
      "Epoch 18, CIFAR-10 Batch 2:  Loss:     0.3077 Validation Accuracy: 0.628000\n",
      "Epoch 18, CIFAR-10 Batch 3:  Loss:     0.2948 Validation Accuracy: 0.632600\n",
      "Epoch 18, CIFAR-10 Batch 4:  Loss:     0.3587 Validation Accuracy: 0.638200\n",
      "Epoch 18, CIFAR-10 Batch 5:  Loss:     0.3109 Validation Accuracy: 0.622200\n",
      "Epoch 19, CIFAR-10 Batch 1:  Loss:     0.5057 Validation Accuracy: 0.618800\n",
      "Epoch 19, CIFAR-10 Batch 2:  Loss:     0.3102 Validation Accuracy: 0.630000\n",
      "Epoch 19, CIFAR-10 Batch 3:  Loss:     0.2872 Validation Accuracy: 0.610000\n",
      "Epoch 19, CIFAR-10 Batch 4:  Loss:     0.3454 Validation Accuracy: 0.631800\n",
      "Epoch 19, CIFAR-10 Batch 5:  Loss:     0.3034 Validation Accuracy: 0.633000\n",
      "Epoch 20, CIFAR-10 Batch 1:  Loss:     0.4620 Validation Accuracy: 0.620600\n",
      "Epoch 20, CIFAR-10 Batch 2:  Loss:     0.2971 Validation Accuracy: 0.619000\n",
      "Epoch 20, CIFAR-10 Batch 3:  Loss:     0.2603 Validation Accuracy: 0.615600\n",
      "Epoch 20, CIFAR-10 Batch 4:  Loss:     0.3144 Validation Accuracy: 0.628400\n",
      "Epoch 20, CIFAR-10 Batch 5:  Loss:     0.2800 Validation Accuracy: 0.643400\n",
      "Epoch 21, CIFAR-10 Batch 1:  Loss:     0.4690 Validation Accuracy: 0.619400\n",
      "Epoch 21, CIFAR-10 Batch 2:  Loss:     0.2706 Validation Accuracy: 0.625000\n",
      "Epoch 21, CIFAR-10 Batch 3:  Loss:     0.2337 Validation Accuracy: 0.629600\n",
      "Epoch 21, CIFAR-10 Batch 4:  Loss:     0.2819 Validation Accuracy: 0.630600\n",
      "Epoch 21, CIFAR-10 Batch 5:  Loss:     0.2494 Validation Accuracy: 0.648600\n",
      "Epoch 22, CIFAR-10 Batch 1:  Loss:     0.4439 Validation Accuracy: 0.617400\n",
      "Epoch 22, CIFAR-10 Batch 2:  Loss:     0.2916 Validation Accuracy: 0.626000\n",
      "Epoch 22, CIFAR-10 Batch 3:  Loss:     0.2397 Validation Accuracy: 0.632200\n",
      "Epoch 22, CIFAR-10 Batch 4:  Loss:     0.2743 Validation Accuracy: 0.643200\n",
      "Epoch 22, CIFAR-10 Batch 5:  Loss:     0.2353 Validation Accuracy: 0.653600\n",
      "Epoch 23, CIFAR-10 Batch 1:  Loss:     0.3911 Validation Accuracy: 0.629400\n",
      "Epoch 23, CIFAR-10 Batch 2:  Loss:     0.2655 Validation Accuracy: 0.635000\n",
      "Epoch 23, CIFAR-10 Batch 3:  Loss:     0.2080 Validation Accuracy: 0.643400\n",
      "Epoch 23, CIFAR-10 Batch 4:  Loss:     0.2500 Validation Accuracy: 0.621000\n",
      "Epoch 23, CIFAR-10 Batch 5:  Loss:     0.2545 Validation Accuracy: 0.655400\n",
      "Epoch 24, CIFAR-10 Batch 1:  Loss:     0.3937 Validation Accuracy: 0.621800\n",
      "Epoch 24, CIFAR-10 Batch 2:  Loss:     0.2732 Validation Accuracy: 0.639600\n",
      "Epoch 24, CIFAR-10 Batch 3:  Loss:     0.2324 Validation Accuracy: 0.633400\n",
      "Epoch 24, CIFAR-10 Batch 4:  Loss:     0.2450 Validation Accuracy: 0.634000\n",
      "Epoch 24, CIFAR-10 Batch 5:  Loss:     0.1955 Validation Accuracy: 0.656000\n",
      "Epoch 25, CIFAR-10 Batch 1:  Loss:     0.3329 Validation Accuracy: 0.637000\n",
      "Epoch 25, CIFAR-10 Batch 2:  Loss:     0.2343 Validation Accuracy: 0.641600\n",
      "Epoch 25, CIFAR-10 Batch 3:  Loss:     0.2258 Validation Accuracy: 0.637200\n",
      "Epoch 25, CIFAR-10 Batch 4:  Loss:     0.2286 Validation Accuracy: 0.631800\n",
      "Epoch 25, CIFAR-10 Batch 5:  Loss:     0.2071 Validation Accuracy: 0.650600\n",
      "Epoch 26, CIFAR-10 Batch 1:  Loss:     0.3698 Validation Accuracy: 0.628000\n",
      "Epoch 26, CIFAR-10 Batch 2:  Loss:     0.2763 Validation Accuracy: 0.632000\n",
      "Epoch 26, CIFAR-10 Batch 3:  Loss:     0.2333 Validation Accuracy: 0.631000\n",
      "Epoch 26, CIFAR-10 Batch 4:  Loss:     0.2552 Validation Accuracy: 0.637800\n",
      "Epoch 26, CIFAR-10 Batch 5:  Loss:     0.2105 Validation Accuracy: 0.651200\n",
      "Epoch 27, CIFAR-10 Batch 1:  Loss:     0.3226 Validation Accuracy: 0.638800\n",
      "Epoch 27, CIFAR-10 Batch 2:  Loss:     0.2403 Validation Accuracy: 0.636800\n",
      "Epoch 27, CIFAR-10 Batch 3:  Loss:     0.2186 Validation Accuracy: 0.639000\n",
      "Epoch 27, CIFAR-10 Batch 4:  Loss:     0.2438 Validation Accuracy: 0.629400\n",
      "Epoch 27, CIFAR-10 Batch 5:  Loss:     0.1918 Validation Accuracy: 0.645800\n",
      "Epoch 28, CIFAR-10 Batch 1:  Loss:     0.3450 Validation Accuracy: 0.628400\n",
      "Epoch 28, CIFAR-10 Batch 2:  Loss:     0.2486 Validation Accuracy: 0.644800\n",
      "Epoch 28, CIFAR-10 Batch 3:  Loss:     0.2574 Validation Accuracy: 0.630600\n",
      "Epoch 28, CIFAR-10 Batch 4:  Loss:     0.2469 Validation Accuracy: 0.648600\n",
      "Epoch 28, CIFAR-10 Batch 5:  Loss:     0.2089 Validation Accuracy: 0.636400\n",
      "Epoch 29, CIFAR-10 Batch 1:  Loss:     0.3087 Validation Accuracy: 0.644600\n",
      "Epoch 29, CIFAR-10 Batch 2:  Loss:     0.2163 Validation Accuracy: 0.647000\n",
      "Epoch 29, CIFAR-10 Batch 3:  Loss:     0.2338 Validation Accuracy: 0.627000\n",
      "Epoch 29, CIFAR-10 Batch 4:  Loss:     0.2046 Validation Accuracy: 0.650800\n",
      "Epoch 29, CIFAR-10 Batch 5:  Loss:     0.1720 Validation Accuracy: 0.633800\n",
      "Epoch 30, CIFAR-10 Batch 1:  Loss:     0.2752 Validation Accuracy: 0.634400\n",
      "Epoch 30, CIFAR-10 Batch 2:  Loss:     0.1816 Validation Accuracy: 0.648800\n",
      "Epoch 30, CIFAR-10 Batch 3:  Loss:     0.2366 Validation Accuracy: 0.637800\n",
      "Epoch 30, CIFAR-10 Batch 4:  Loss:     0.2031 Validation Accuracy: 0.641000\n",
      "Epoch 30, CIFAR-10 Batch 5:  Loss:     0.1598 Validation Accuracy: 0.639000\n",
      "Epoch 31, CIFAR-10 Batch 1:  Loss:     0.2714 Validation Accuracy: 0.643800\n",
      "Epoch 31, CIFAR-10 Batch 2:  Loss:     0.1555 Validation Accuracy: 0.639000\n",
      "Epoch 31, CIFAR-10 Batch 3:  Loss:     0.1977 Validation Accuracy: 0.647200\n",
      "Epoch 31, CIFAR-10 Batch 4:  Loss:     0.1745 Validation Accuracy: 0.642000\n",
      "Epoch 31, CIFAR-10 Batch 5:  Loss:     0.1653 Validation Accuracy: 0.633200\n",
      "Epoch 32, CIFAR-10 Batch 1:  Loss:     0.2795 Validation Accuracy: 0.647000\n",
      "Epoch 32, CIFAR-10 Batch 2:  Loss:     0.1632 Validation Accuracy: 0.644400\n",
      "Epoch 32, CIFAR-10 Batch 3:  Loss:     0.1703 Validation Accuracy: 0.638600\n",
      "Epoch 32, CIFAR-10 Batch 4:  Loss:     0.1433 Validation Accuracy: 0.643600\n",
      "Epoch 32, CIFAR-10 Batch 5:  Loss:     0.1491 Validation Accuracy: 0.638400\n",
      "Epoch 33, CIFAR-10 Batch 1:  Loss:     0.2785 Validation Accuracy: 0.651000\n",
      "Epoch 33, CIFAR-10 Batch 2:  Loss:     0.1499 Validation Accuracy: 0.646000\n",
      "Epoch 33, CIFAR-10 Batch 3:  Loss:     0.1787 Validation Accuracy: 0.636200\n",
      "Epoch 33, CIFAR-10 Batch 4:  Loss:     0.1259 Validation Accuracy: 0.648000\n",
      "Epoch 33, CIFAR-10 Batch 5:  Loss:     0.1488 Validation Accuracy: 0.628000\n",
      "Epoch 34, CIFAR-10 Batch 1:  Loss:     0.3166 Validation Accuracy: 0.639200\n",
      "Epoch 34, CIFAR-10 Batch 2:  Loss:     0.1771 Validation Accuracy: 0.627800\n",
      "Epoch 34, CIFAR-10 Batch 3:  Loss:     0.1785 Validation Accuracy: 0.622400\n",
      "Epoch 34, CIFAR-10 Batch 4:  Loss:     0.1222 Validation Accuracy: 0.645400\n",
      "Epoch 34, CIFAR-10 Batch 5:  Loss:     0.1597 Validation Accuracy: 0.631000\n",
      "Epoch 35, CIFAR-10 Batch 1:  Loss:     0.2690 Validation Accuracy: 0.640800\n",
      "Epoch 35, CIFAR-10 Batch 2:  Loss:     0.1629 Validation Accuracy: 0.636800\n",
      "Epoch 35, CIFAR-10 Batch 3:  Loss:     0.1938 Validation Accuracy: 0.619000\n",
      "Epoch 35, CIFAR-10 Batch 4:  Loss:     0.1316 Validation Accuracy: 0.644200\n",
      "Epoch 35, CIFAR-10 Batch 5:  Loss:     0.1266 Validation Accuracy: 0.645400\n",
      "Epoch 36, CIFAR-10 Batch 1:  Loss:     0.2618 Validation Accuracy: 0.645400\n",
      "Epoch 36, CIFAR-10 Batch 2:  Loss:     0.1320 Validation Accuracy: 0.642000\n",
      "Epoch 36, CIFAR-10 Batch 3:  Loss:     0.1394 Validation Accuracy: 0.626600\n",
      "Epoch 36, CIFAR-10 Batch 4:  Loss:     0.1182 Validation Accuracy: 0.647600\n",
      "Epoch 36, CIFAR-10 Batch 5:  Loss:     0.1496 Validation Accuracy: 0.638200\n",
      "Epoch 37, CIFAR-10 Batch 1:  Loss:     0.2411 Validation Accuracy: 0.642800\n",
      "Epoch 37, CIFAR-10 Batch 2:  Loss:     0.1396 Validation Accuracy: 0.639000\n",
      "Epoch 37, CIFAR-10 Batch 3:  Loss:     0.1253 Validation Accuracy: 0.636600\n",
      "Epoch 37, CIFAR-10 Batch 4:  Loss:     0.1180 Validation Accuracy: 0.632600\n",
      "Epoch 37, CIFAR-10 Batch 5:  Loss:     0.1629 Validation Accuracy: 0.634000\n",
      "Epoch 38, CIFAR-10 Batch 1:  Loss:     0.2340 Validation Accuracy: 0.625800\n",
      "Epoch 38, CIFAR-10 Batch 2:  Loss:     0.1458 Validation Accuracy: 0.647800\n",
      "Epoch 38, CIFAR-10 Batch 3:  Loss:     0.1577 Validation Accuracy: 0.639800\n",
      "Epoch 38, CIFAR-10 Batch 4:  Loss:     0.1305 Validation Accuracy: 0.643600\n",
      "Epoch 38, CIFAR-10 Batch 5:  Loss:     0.1209 Validation Accuracy: 0.646400\n",
      "Epoch 39, CIFAR-10 Batch 1:  Loss:     0.2091 Validation Accuracy: 0.635000\n",
      "Epoch 39, CIFAR-10 Batch 2:  Loss:     0.1422 Validation Accuracy: 0.652600\n",
      "Epoch 39, CIFAR-10 Batch 3:  Loss:     0.1490 Validation Accuracy: 0.628200\n",
      "Epoch 39, CIFAR-10 Batch 4:  Loss:     0.1183 Validation Accuracy: 0.644000\n",
      "Epoch 39, CIFAR-10 Batch 5:  Loss:     0.1044 Validation Accuracy: 0.636000\n",
      "Epoch 40, CIFAR-10 Batch 1:  Loss:     0.1867 Validation Accuracy: 0.626200\n",
      "Epoch 40, CIFAR-10 Batch 2:  Loss:     0.1314 Validation Accuracy: 0.645600\n",
      "Epoch 40, CIFAR-10 Batch 3:  Loss:     0.1152 Validation Accuracy: 0.630800\n",
      "Epoch 40, CIFAR-10 Batch 4:  Loss:     0.1889 Validation Accuracy: 0.641000\n",
      "Epoch 40, CIFAR-10 Batch 5:  Loss:     0.1006 Validation Accuracy: 0.642800\n",
      "Epoch 41, CIFAR-10 Batch 1:  Loss:     0.2041 Validation Accuracy: 0.639600\n",
      "Epoch 41, CIFAR-10 Batch 2:  Loss:     0.1267 Validation Accuracy: 0.660200\n",
      "Epoch 41, CIFAR-10 Batch 3:  Loss:     0.1258 Validation Accuracy: 0.631200\n",
      "Epoch 41, CIFAR-10 Batch 4:  Loss:     0.1519 Validation Accuracy: 0.644600\n",
      "Epoch 41, CIFAR-10 Batch 5:  Loss:     0.1052 Validation Accuracy: 0.643600\n",
      "Epoch 42, CIFAR-10 Batch 1:  Loss:     0.1924 Validation Accuracy: 0.637600\n",
      "Epoch 42, CIFAR-10 Batch 2:  Loss:     0.1419 Validation Accuracy: 0.643600\n",
      "Epoch 42, CIFAR-10 Batch 3:  Loss:     0.1430 Validation Accuracy: 0.625200\n",
      "Epoch 42, CIFAR-10 Batch 4:  Loss:     0.1681 Validation Accuracy: 0.642400\n",
      "Epoch 42, CIFAR-10 Batch 5:  Loss:     0.0951 Validation Accuracy: 0.640200\n",
      "Epoch 43, CIFAR-10 Batch 1:  Loss:     0.1629 Validation Accuracy: 0.646000\n",
      "Epoch 43, CIFAR-10 Batch 2:  Loss:     0.1355 Validation Accuracy: 0.648600\n",
      "Epoch 43, CIFAR-10 Batch 3:  Loss:     0.1851 Validation Accuracy: 0.612600\n",
      "Epoch 43, CIFAR-10 Batch 4:  Loss:     0.1185 Validation Accuracy: 0.635000\n",
      "Epoch 43, CIFAR-10 Batch 5:  Loss:     0.1129 Validation Accuracy: 0.640000\n",
      "Epoch 44, CIFAR-10 Batch 1:  Loss:     0.1762 Validation Accuracy: 0.644600\n",
      "Epoch 44, CIFAR-10 Batch 2:  Loss:     0.1435 Validation Accuracy: 0.644000\n",
      "Epoch 44, CIFAR-10 Batch 3:  Loss:     0.1638 Validation Accuracy: 0.610400\n",
      "Epoch 44, CIFAR-10 Batch 4:  Loss:     0.1037 Validation Accuracy: 0.639400\n",
      "Epoch 44, CIFAR-10 Batch 5:  Loss:     0.1162 Validation Accuracy: 0.635400\n",
      "Epoch 45, CIFAR-10 Batch 1:  Loss:     0.1598 Validation Accuracy: 0.644600\n",
      "Epoch 45, CIFAR-10 Batch 2:  Loss:     0.1314 Validation Accuracy: 0.656600\n",
      "Epoch 45, CIFAR-10 Batch 3:  Loss:     0.2086 Validation Accuracy: 0.604800\n",
      "Epoch 45, CIFAR-10 Batch 4:  Loss:     0.1285 Validation Accuracy: 0.645200\n",
      "Epoch 45, CIFAR-10 Batch 5:  Loss:     0.0787 Validation Accuracy: 0.646000\n",
      "Epoch 46, CIFAR-10 Batch 1:  Loss:     0.1534 Validation Accuracy: 0.630000\n",
      "Epoch 46, CIFAR-10 Batch 2:  Loss:     0.1653 Validation Accuracy: 0.648200\n",
      "Epoch 46, CIFAR-10 Batch 3:  Loss:     0.1514 Validation Accuracy: 0.631600\n",
      "Epoch 46, CIFAR-10 Batch 4:  Loss:     0.1332 Validation Accuracy: 0.639400\n",
      "Epoch 46, CIFAR-10 Batch 5:  Loss:     0.0887 Validation Accuracy: 0.638800\n",
      "Epoch 47, CIFAR-10 Batch 1:  Loss:     0.1508 Validation Accuracy: 0.633600\n",
      "Epoch 47, CIFAR-10 Batch 2:  Loss:     0.1377 Validation Accuracy: 0.651000\n",
      "Epoch 47, CIFAR-10 Batch 3:  Loss:     0.1738 Validation Accuracy: 0.630000\n",
      "Epoch 47, CIFAR-10 Batch 4:  Loss:     0.1041 Validation Accuracy: 0.639400\n",
      "Epoch 47, CIFAR-10 Batch 5:  Loss:     0.0825 Validation Accuracy: 0.639200\n",
      "Epoch 48, CIFAR-10 Batch 1:  Loss:     0.2001 Validation Accuracy: 0.625000\n",
      "Epoch 48, CIFAR-10 Batch 2:  Loss:     0.1094 Validation Accuracy: 0.653000\n",
      "Epoch 48, CIFAR-10 Batch 3:  Loss:     0.1284 Validation Accuracy: 0.621600\n",
      "Epoch 48, CIFAR-10 Batch 4:  Loss:     0.0964 Validation Accuracy: 0.644400\n",
      "Epoch 48, CIFAR-10 Batch 5:  Loss:     0.0597 Validation Accuracy: 0.643800\n",
      "Epoch 49, CIFAR-10 Batch 1:  Loss:     0.1461 Validation Accuracy: 0.627200\n",
      "Epoch 49, CIFAR-10 Batch 2:  Loss:     0.1113 Validation Accuracy: 0.651800\n",
      "Epoch 49, CIFAR-10 Batch 3:  Loss:     0.1471 Validation Accuracy: 0.621000\n",
      "Epoch 49, CIFAR-10 Batch 4:  Loss:     0.1205 Validation Accuracy: 0.644000\n",
      "Epoch 49, CIFAR-10 Batch 5:  Loss:     0.0660 Validation Accuracy: 0.653800\n",
      "Epoch 50, CIFAR-10 Batch 1:  Loss:     0.1192 Validation Accuracy: 0.632800\n",
      "Epoch 50, CIFAR-10 Batch 2:  Loss:     0.1240 Validation Accuracy: 0.647800\n",
      "Epoch 50, CIFAR-10 Batch 3:  Loss:     0.1173 Validation Accuracy: 0.619000\n",
      "Epoch 50, CIFAR-10 Batch 4:  Loss:     0.1335 Validation Accuracy: 0.649000\n",
      "Epoch 50, CIFAR-10 Batch 5:  Loss:     0.0680 Validation Accuracy: 0.652400\n"
     ]
    }
   ],
   "source": [
    "\"\"\"\n",
    "DON'T MODIFY ANYTHING IN THIS CELL\n",
    "\"\"\"\n",
    "save_model_path = './image_classification'\n",
    "\n",
    "print('Training...')\n",
    "with tf.Session() as sess:\n",
    "    # Initializing the variables\n",
    "    sess.run(tf.global_variables_initializer())\n",
    "    \n",
    "    # Training cycle\n",
    "    for epoch in range(epochs):\n",
    "        # Loop over all batches\n",
    "        n_batches = 5\n",
    "        for batch_i in range(1, n_batches + 1):\n",
    "            for batch_features, batch_labels in helper.load_preprocess_training_batch(batch_i, batch_size):\n",
    "                train_neural_network(sess, optimizer, keep_probability, batch_features, batch_labels)\n",
    "            print('Epoch {:>2}, CIFAR-10 Batch {}:  '.format(epoch + 1, batch_i), end='')\n",
    "            print_stats(sess, batch_features, batch_labels, cost, accuracy)\n",
    "            \n",
    "    # Save Model\n",
    "    saver = tf.train.Saver()\n",
    "    save_path = saver.save(sess, save_model_path)"
   ]
  },
  {
   "cell_type": "markdown",
   "metadata": {
    "deletable": true,
    "editable": true
   },
   "source": [
    "# Checkpoint\n",
    "The model has been saved to disk.\n",
    "## Test Model\n",
    "Test your model against the test dataset.  This will be your final accuracy. You should have an accuracy greater than 50%. If you don't, keep tweaking the model architecture and parameters."
   ]
  },
  {
   "cell_type": "code",
   "execution_count": 40,
   "metadata": {
    "collapsed": false,
    "deletable": true,
    "editable": true
   },
   "outputs": [
    {
     "name": "stdout",
     "output_type": "stream",
     "text": [
      "Testing Accuracy: 0.63974609375\n",
      "\n"
     ]
    },
    {
     "data": {
      "image/png": "[encoded data removed]",
      "text/plain": [
       "<matplotlib.figure.Figure at 0x7f16288ff7b8>"
      ]
     },
     "metadata": {
      "image/png": {
       "height": 319,
       "width": 355
      }
     },
     "output_type": "display_data"
    }
   ],
   "source": [
    "\"\"\"\n",
    "DON'T MODIFY ANYTHING IN THIS CELL\n",
    "\"\"\"\n",
    "%matplotlib inline\n",
    "%config InlineBackend.figure_format = 'retina'\n",
    "\n",
    "import tensorflow as tf\n",
    "import pickle\n",
    "import helper\n",
    "import random\n",
    "\n",
    "# Set batch size if not already set\n",
    "try:\n",
    "    if batch_size:\n",
    "        pass\n",
    "except NameError:\n",
    "    batch_size = 64\n",
    "\n",
    "save_model_path = './image_classification'\n",
    "n_samples = 4\n",
    "top_n_predictions = 3\n",
    "\n",
    "def test_model():\n",
    "    \"\"\"\n",
    "    Test the saved model against the test dataset\n",
    "    \"\"\"\n",
    "\n",
    "    test_features, test_labels = pickle.load(open('preprocess_training.p', mode='rb'))\n",
    "    loaded_graph = tf.Graph()\n",
    "\n",
    "    with tf.Session(graph=loaded_graph) as sess:\n",
    "        # Load model\n",
    "        loader = tf.train.import_meta_graph(save_model_path + '.meta')\n",
    "        loader.restore(sess, save_model_path)\n",
    "\n",
    "        # Get Tensors from loaded model\n",
    "        loaded_x = loaded_graph.get_tensor_by_name('x:0')\n",
    "        loaded_y = loaded_graph.get_tensor_by_name('y:0')\n",
    "        loaded_keep_prob = loaded_graph.get_tensor_by_name('keep_prob:0')\n",
    "        loaded_logits = loaded_graph.get_tensor_by_name('logits:0')\n",
    "        loaded_acc = loaded_graph.get_tensor_by_name('accuracy:0')\n",
    "        \n",
    "        # Get accuracy in batches for memory limitations\n",
    "        test_batch_acc_total = 0\n",
    "        test_batch_count = 0\n",
    "        \n",
    "        for train_feature_batch, train_label_batch in helper.batch_features_labels(test_features, test_labels, batch_size):\n",
    "            test_batch_acc_total += sess.run(\n",
    "                loaded_acc,\n",
    "                feed_dict={loaded_x: train_feature_batch, loaded_y: train_label_batch, loaded_keep_prob: 1.0})\n",
    "            test_batch_count += 1\n",
    "\n",
    "        print('Testing Accuracy: {}\\n'.format(test_batch_acc_total/test_batch_count))\n",
    "\n",
    "        # Print Random Samples\n",
    "        random_test_features, random_test_labels = tuple(zip(*random.sample(list(zip(test_features, test_labels)), n_samples)))\n",
    "        random_test_predictions = sess.run(\n",
    "            tf.nn.top_k(tf.nn.softmax(loaded_logits), top_n_predictions),\n",
    "            feed_dict={loaded_x: random_test_features, loaded_y: random_test_labels, loaded_keep_prob: 1.0})\n",
    "        helper.display_image_predictions(random_test_features, random_test_labels, random_test_predictions)\n",
    "\n",
    "\n",
    "test_model()"
   ]
  },
  {
   "cell_type": "markdown",
   "metadata": {
    "deletable": true,
    "editable": true
   },
   "source": [
    "## Why 50-70% Accuracy?\n",
    "You might be wondering why you can't get an accuracy any higher. First things first, 50% isn't bad for a simple CNN.  Pure guessing would get you 10% accuracy. However, you might notice people are getting scores [well above 70%](http://rodrigob.github.io/are_we_there_yet/build/classification_datasets_results.html#43494641522d3130).  That's because we haven't taught you all there is to know about neural networks. We still need to cover a few more techniques.\n",
    "## Submitting This Project\n",
    "When submitting this project, make sure to run all the cells before saving the notebook.  Save the notebook file as \"dlnd_image_classification.ipynb\" and save it as a HTML file under \"File\" -> \"Download as\".  Include the \"helper.py\" and \"problem_unittests.py\" files in your submission."
   ]
  }
 ],
 "metadata": {
  "kernelspec": {
   "display_name": "Python 3",
   "language": "python",
   "name": "python3"
  },
  "language_info": {
   "codemirror_mode": {
    "name": "ipython",
    "version": 3
   },
   "file_extension": ".py",
   "mimetype": "text/x-python",
   "name": "python",
   "nbconvert_exporter": "python",
   "pygments_lexer": "ipython3",
   "version": "3.5.3"
  }
 },
 "nbformat": 4,
 "nbformat_minor": 0
}
